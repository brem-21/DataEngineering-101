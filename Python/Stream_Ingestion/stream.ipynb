{
 "cells": [
  {
   "cell_type": "code",
   "execution_count": 4,
   "id": "032503d7",
   "metadata": {},
   "outputs": [],
   "source": [
    "import time\n",
    "import json\n",
    "import sqlite3\n",
    "from queue import Queue\n",
    "import random\n",
    "import string\n",
    "from threading import Thread\n",
    "import os"
   ]
  },
  {
   "cell_type": "code",
   "execution_count": 5,
   "id": "481f69a0",
   "metadata": {},
   "outputs": [],
   "source": [
    "def producer(q):\n",
    "    \"\"\"Put JSON strings into the queue every few seconds.\"\"\"\n",
    "    for _ in range(10):  # 10 messages\n",
    "        event = {\n",
    "            \"ride_id\": ''.join(random.choices(string.ascii_uppercase + string.digits, k=6)),\n",
    "            \"driver_id\": random.choice([\"D1\", \"D2\", \"D3\"]),\n",
    "            \"cost\": round(random.uniform(5, 50), 2),\n",
    "            \"ts\": time.strftime(\"%Y-%m-%d %H:%M:%S\")\n",
    "        }\n",
    "        q.put(json.dumps(event))\n",
    "        time.sleep(random.uniform(2, 6))"
   ]
  },
  {
   "cell_type": "code",
   "execution_count": 6,
   "id": "dda4e656",
   "metadata": {},
   "outputs": [],
   "source": [
    "def stream_to_sqlite(q, db_path, table):\n",
    "    conn = sqlite3.connect(db_path)\n",
    "    cur = conn.cursor()\n",
    "\n",
    "    total_start = time.time()\n",
    "    while True:\n",
    "        try:\n",
    "            # wait up to 60 sec for a new message\n",
    "            data = q.get(timeout=60)\n",
    "        except queue.Empty:\n",
    "            print(\"No message for 60s → stopping.\")\n",
    "            break\n",
    "\n",
    "        record = json.loads(data)\n",
    "        cur.execute(\n",
    "            f\"INSERT INTO {table}(ride_id, driver_id, cost, ts) VALUES (?, ?, ?, ?)\",\n",
    "            (record[\"ride_id\"], record[\"driver_id\"], record[\"cost\"], record[\"ts\"])\n",
    "        )\n",
    "        conn.commit()\n",
    "        print(\"Inserted:\", record)\n",
    "\n",
    "        # Stop if total streaming time > 60 s\n",
    "        if time.time() - total_start > 60:\n",
    "            print(\"Total run exceeded 60s → stopping.\")\n",
    "            break\n",
    "\n",
    "        # Optional wait before next poll\n",
    "        time.sleep(1)\n",
    "\n",
    "    conn.close()\n",
    "    print(\"Stream processing finished.\")"
   ]
  },
  {
   "cell_type": "code",
   "execution_count": 8,
   "id": "b5e1d444",
   "metadata": {},
   "outputs": [],
   "source": [
    "def create_table(db_path=\"rides.db\"):\n",
    "    \"\"\"\n",
    "    Create an SQLite database and a table for ride events\n",
    "    if they don't already exist.\n",
    "    \"\"\"\n",
    "    conn = sqlite3.connect(db_path)\n",
    "    cur = conn.cursor()\n",
    "\n",
    "    # Create table with simple schema\n",
    "    cur.execute(\"\"\"\n",
    "        CREATE TABLE IF NOT EXISTS ride_events (\n",
    "            ride_id   TEXT,\n",
    "            driver_id TEXT,\n",
    "            cost      REAL,\n",
    "            ts        TEXT\n",
    "        );\n",
    "    \"\"\")\n",
    "\n",
    "    conn.commit()\n",
    "    conn.close()\n",
    "    print(f\"Database '{db_path}' and table 'ride_events' ready.\")"
   ]
  },
  {
   "cell_type": "code",
   "execution_count": 10,
   "id": "ca25289c",
   "metadata": {},
   "outputs": [
    {
     "name": "stdout",
     "output_type": "stream",
     "text": [
      "Database 'rides.db' and table 'ride_events' ready.\n",
      "Inserted: {'ride_id': 'TSJJWI', 'driver_id': 'D2', 'cost': 30.41, 'ts': '2025-09-16 10:57:59'}\n",
      "Inserted: {'ride_id': 'T5F6DW', 'driver_id': 'D2', 'cost': 34.63, 'ts': '2025-09-16 10:58:04'}\n",
      "Inserted: {'ride_id': 'K76DDD', 'driver_id': 'D1', 'cost': 17.72, 'ts': '2025-09-16 10:58:07'}\n",
      "Inserted: {'ride_id': 'KU9IWR', 'driver_id': 'D1', 'cost': 24.76, 'ts': '2025-09-16 10:58:09'}\n",
      "Inserted: {'ride_id': '4IWLRI', 'driver_id': 'D2', 'cost': 34.32, 'ts': '2025-09-16 10:58:13'}\n",
      "Inserted: {'ride_id': '939QKO', 'driver_id': 'D2', 'cost': 36.33, 'ts': '2025-09-16 10:58:19'}\n",
      "Inserted: {'ride_id': 'KNE8LT', 'driver_id': 'D2', 'cost': 45.97, 'ts': '2025-09-16 10:58:23'}\n",
      "Inserted: {'ride_id': '94R3B2', 'driver_id': 'D1', 'cost': 30.94, 'ts': '2025-09-16 10:58:25'}\n",
      "Inserted: {'ride_id': '9XNTIH', 'driver_id': 'D2', 'cost': 23.93, 'ts': '2025-09-16 10:58:30'}\n",
      "Inserted: {'ride_id': '3WM0A0', 'driver_id': 'D2', 'cost': 10.67, 'ts': '2025-09-16 10:58:34'}\n",
      "No message for 60s → stopping.\n",
      "Stream processing finished.\n"
     ]
    }
   ],
   "source": [
    "import queue\n",
    "\n",
    "\n",
    "if __name__ == \"__main__\":\n",
    "    create_table()\n",
    "    q = queue.Queue()\n",
    "    Thread(target=producer, args=(q,), daemon=True).start()\n",
    "    stream_to_sqlite(q, \"rides.db\", \"ride_events\")"
   ]
  },
  {
   "cell_type": "code",
   "execution_count": null,
   "id": "bf24da6a",
   "metadata": {},
   "outputs": [],
   "source": []
  }
 ],
 "metadata": {
  "kernelspec": {
   "display_name": ".venv",
   "language": "python",
   "name": "python3"
  },
  "language_info": {
   "codemirror_mode": {
    "name": "ipython",
    "version": 3
   },
   "file_extension": ".py",
   "mimetype": "text/x-python",
   "name": "python",
   "nbconvert_exporter": "python",
   "pygments_lexer": "ipython3",
   "version": "3.11.11"
  }
 },
 "nbformat": 4,
 "nbformat_minor": 5
}
