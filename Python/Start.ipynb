{
 "cells": [
  {
   "cell_type": "markdown",
   "id": "24d2ee3e",
   "metadata": {},
   "source": [
    "# Python for Data Engineering"
   ]
  },
  {
   "cell_type": "markdown",
   "id": "381ab10c",
   "metadata": {},
   "source": [
    "### Introduction\n",
    "Introduction to Python programming for beginners.\n",
    "- Basic Syntax\n",
    "- Variables\n",
    "- Data Types\n",
    "- Functions\n",
    "- OOP"
   ]
  },
  {
   "cell_type": "code",
   "execution_count": 2,
   "id": "35da7819",
   "metadata": {},
   "outputs": [
    {
     "name": "stdout",
     "output_type": "stream",
     "text": [
      "Hello, Data Engineering!\n"
     ]
    }
   ],
   "source": [
    "message = \"Hello, Data Engineering!\"\n",
    "print(message)"
   ]
  },
  {
   "cell_type": "code",
   "execution_count": 3,
   "id": "fd4d2c25",
   "metadata": {},
   "outputs": [
    {
     "name": "stdout",
     "output_type": "stream",
     "text": [
      "Ada Lovelace\n"
     ]
    }
   ],
   "source": [
    "name = \"ada lovelace\"\n",
    "print(name.title())"
   ]
  },
  {
   "cell_type": "code",
   "execution_count": 4,
   "id": "28232e8c",
   "metadata": {},
   "outputs": [
    {
     "name": "stdout",
     "output_type": "stream",
     "text": [
      "ADA LOVELACE\n",
      "ada lovelace\n"
     ]
    }
   ],
   "source": [
    "name = \"Ada Lovelace\"\n",
    "print(name.upper())\n",
    "print(name.lower())"
   ]
  },
  {
   "cell_type": "markdown",
   "id": "df2290b9",
   "metadata": {},
   "source": [
    "### String Concatenation"
   ]
  },
  {
   "cell_type": "code",
   "execution_count": 5,
   "id": "b3976467",
   "metadata": {},
   "outputs": [
    {
     "name": "stdout",
     "output_type": "stream",
     "text": [
      "Ada Lovelace\n"
     ]
    }
   ],
   "source": [
    "first_name = \"ada\"\n",
    "last_name = \"lovelace\"\n",
    "full_name = first_name + \" \" + last_name\n",
    "print(full_name.title())"
   ]
  },
  {
   "cell_type": "markdown",
   "id": "c8475391",
   "metadata": {},
   "source": [
    "### Adding Whitespace to Strings with Tabs or Newlines"
   ]
  },
  {
   "cell_type": "markdown",
   "id": "51ba949d",
   "metadata": {},
   "source": [
    "In programming, whitespace refers to any nonprinting character, such as\n",
    "spaces, tabs, and end-of-line symbols. You can use whitespace to organize\n",
    "your output so it’s easier for users to read.\n",
    "- To add a tab to your text, use the character combination \\t \n",
    "- To add a newline in a string, use the character combination \\n"
   ]
  },
  {
   "cell_type": "code",
   "execution_count": 6,
   "id": "3d4eafe2",
   "metadata": {},
   "outputs": [
    {
     "name": "stdout",
     "output_type": "stream",
     "text": [
      "Languages:\n",
      "\tPython\n",
      "\tC\n",
      "\tJavaScript\n"
     ]
    }
   ],
   "source": [
    "print(\"Languages:\\n\\tPython\\n\\tC\\n\\tJavaScript\")"
   ]
  },
  {
   "cell_type": "markdown",
   "id": "3473d0b4",
   "metadata": {},
   "source": [
    "### Stripping Whitespace \n",
    "Extra whitespace can be confusing in your programs. To programmers\n",
    "‘python’ and ‘python ' look pretty much the same. But to a program, they\n",
    "are two different strings. Python detects the extra space in 'python ' and\n",
    "considers it significant unless you tell it otherwise. Python can look for extra whitespace on the right and left sides of a string. To ensure that no whitespace exists at the right end of a string, use\n",
    "the rstrip() method. "
   ]
  },
  {
   "cell_type": "code",
   "execution_count": 7,
   "id": "af0b6a2d",
   "metadata": {},
   "outputs": [
    {
     "name": "stdout",
     "output_type": "stream",
     "text": [
      "python\n"
     ]
    }
   ],
   "source": [
    "favourite_language = \"python \"\n",
    "\n",
    "print(favourite_language.rstrip())"
   ]
  },
  {
   "cell_type": "markdown",
   "id": "18066377",
   "metadata": {},
   "source": [
    "### Numbers\n",
    "Numbers are used quite often in programming to keep score in games, represent data in visualizations, store information in web applications, and so\n",
    "on. Python treats numbers in several different ways, depending on how they\n",
    "are being used. "
   ]
  },
  {
   "cell_type": "markdown",
   "id": "7597d745",
   "metadata": {},
   "source": [
    "#### Integers \n",
    "You can add (+), subtract (-), multiply (*), and divide (/) integers in Python."
   ]
  },
  {
   "cell_type": "code",
   "execution_count": 12,
   "id": "7928e23b",
   "metadata": {},
   "outputs": [
    {
     "data": {
      "text/plain": [
       "5"
      ]
     },
     "execution_count": 12,
     "metadata": {},
     "output_type": "execute_result"
    }
   ],
   "source": [
    "## Addition\n",
    "2 + 3"
   ]
  },
  {
   "cell_type": "code",
   "execution_count": 13,
   "id": "817e21fe",
   "metadata": {},
   "outputs": [
    {
     "data": {
      "text/plain": [
       "1"
      ]
     },
     "execution_count": 13,
     "metadata": {},
     "output_type": "execute_result"
    }
   ],
   "source": [
    "## Subtraction\n",
    "3-2"
   ]
  },
  {
   "cell_type": "code",
   "execution_count": 14,
   "id": "d83be470",
   "metadata": {},
   "outputs": [
    {
     "data": {
      "text/plain": [
       "6"
      ]
     },
     "execution_count": 14,
     "metadata": {},
     "output_type": "execute_result"
    }
   ],
   "source": [
    "## Multiplication\n",
    "2 * 3"
   ]
  },
  {
   "cell_type": "code",
   "execution_count": 15,
   "id": "85db2507",
   "metadata": {},
   "outputs": [
    {
     "data": {
      "text/plain": [
       "1.5"
      ]
     },
     "execution_count": 15,
     "metadata": {},
     "output_type": "execute_result"
    }
   ],
   "source": [
    "## Division\n",
    "3 /2"
   ]
  },
  {
   "cell_type": "code",
   "execution_count": 16,
   "id": "04feee98",
   "metadata": {},
   "outputs": [
    {
     "data": {
      "text/plain": [
       "9"
      ]
     },
     "execution_count": 16,
     "metadata": {},
     "output_type": "execute_result"
    }
   ],
   "source": [
    "## Exponent\n",
    "3 ** 2"
   ]
  },
  {
   "cell_type": "markdown",
   "id": "76be1bb3",
   "metadata": {},
   "source": [
    "Python supports the order of operations too, so you can use multiple\n",
    "operations in one expression. You can also use parentheses to modify the\n",
    "order of operations so Python can evaluate your expression in the order\n",
    "you specify."
   ]
  },
  {
   "cell_type": "code",
   "execution_count": 17,
   "id": "5651b73f",
   "metadata": {},
   "outputs": [
    {
     "data": {
      "text/plain": [
       "12.0"
      ]
     },
     "execution_count": 17,
     "metadata": {},
     "output_type": "execute_result"
    }
   ],
   "source": [
    "2 + 3*4 - 6 / 3"
   ]
  },
  {
   "cell_type": "markdown",
   "id": "0ac3a7c3",
   "metadata": {},
   "source": [
    "#### Floats\n",
    "Python calls any number with a decimal point a float. This term is used in most programming languages, and it refers to the fact that a decimal point can appear at any position in a number. "
   ]
  },
  {
   "cell_type": "code",
   "execution_count": 18,
   "id": "4043e959",
   "metadata": {},
   "outputs": [
    {
     "data": {
      "text/plain": [
       "0.2"
      ]
     },
     "execution_count": 18,
     "metadata": {},
     "output_type": "execute_result"
    }
   ],
   "source": [
    "0.1 + 0.1"
   ]
  },
  {
   "cell_type": "code",
   "execution_count": 21,
   "id": "d0b05cc8",
   "metadata": {},
   "outputs": [
    {
     "data": {
      "text/plain": [
       "1.2"
      ]
     },
     "execution_count": 21,
     "metadata": {},
     "output_type": "execute_result"
    }
   ],
   "source": [
    "0.2 + 1"
   ]
  },
  {
   "cell_type": "code",
   "execution_count": 20,
   "id": "4100944b",
   "metadata": {},
   "outputs": [
    {
     "data": {
      "text/plain": [
       "0.2"
      ]
     },
     "execution_count": 20,
     "metadata": {},
     "output_type": "execute_result"
    }
   ],
   "source": [
    "2 * 0.1"
   ]
  },
  {
   "cell_type": "markdown",
   "id": "242491a9",
   "metadata": {},
   "source": [
    "### Avoiding Type Errors with the str() Function\n",
    "Often, you'll want to use a variable’s value within a message. "
   ]
  },
  {
   "cell_type": "code",
   "execution_count": 22,
   "id": "a29ef273",
   "metadata": {},
   "outputs": [
    {
     "name": "stdout",
     "output_type": "stream",
     "text": [
      "Happy 23rd Birthday!\n"
     ]
    }
   ],
   "source": [
    "age = 23\n",
    "message = \"Happy \" + str(age) + \"rd Birthday!\"\n",
    "print(message)"
   ]
  },
  {
   "cell_type": "markdown",
   "id": "14bdcef9",
   "metadata": {},
   "source": [
    "### Lists\n",
    "A list is a collection of items in a particular order. You can make a list that\n",
    "includes the letters of the alphabet, the digits from 0-9, or the names of\n",
    "all the people in your family. "
   ]
  },
  {
   "cell_type": "code",
   "execution_count": null,
   "id": "c13baee3",
   "metadata": {},
   "outputs": [],
   "source": []
  }
 ],
 "metadata": {
  "kernelspec": {
   "display_name": "dataengineering-101",
   "language": "python",
   "name": "python3"
  },
  "language_info": {
   "codemirror_mode": {
    "name": "ipython",
    "version": 3
   },
   "file_extension": ".py",
   "mimetype": "text/x-python",
   "name": "python",
   "nbconvert_exporter": "python",
   "pygments_lexer": "ipython3",
   "version": "3.11.11"
  }
 },
 "nbformat": 4,
 "nbformat_minor": 5
}
