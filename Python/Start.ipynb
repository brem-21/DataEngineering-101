{
 "cells": [
  {
   "cell_type": "markdown",
   "id": "24d2ee3e",
   "metadata": {},
   "source": [
    "# Python for Data Engineering"
   ]
  },
  {
   "cell_type": "markdown",
   "id": "381ab10c",
   "metadata": {},
   "source": [
    "### Introduction\n",
    "Introduction to Python programming for beginners.\n",
    "- Basic Syntax\n",
    "- Variables\n",
    "- Data Types\n",
    "- Functions\n",
    "- OOP"
   ]
  },
  {
   "cell_type": "code",
   "execution_count": 2,
   "id": "35da7819",
   "metadata": {},
   "outputs": [
    {
     "name": "stdout",
     "output_type": "stream",
     "text": [
      "Hello, Data Engineering!\n"
     ]
    }
   ],
   "source": [
    "message = \"Hello, Data Engineering!\"\n",
    "print(message)"
   ]
  },
  {
   "cell_type": "code",
   "execution_count": 3,
   "id": "fd4d2c25",
   "metadata": {},
   "outputs": [
    {
     "name": "stdout",
     "output_type": "stream",
     "text": [
      "Ada Lovelace\n"
     ]
    }
   ],
   "source": [
    "name = \"ada lovelace\"\n",
    "print(name.title())"
   ]
  },
  {
   "cell_type": "code",
   "execution_count": 4,
   "id": "28232e8c",
   "metadata": {},
   "outputs": [
    {
     "name": "stdout",
     "output_type": "stream",
     "text": [
      "ADA LOVELACE\n",
      "ada lovelace\n"
     ]
    }
   ],
   "source": [
    "name = \"Ada Lovelace\"\n",
    "print(name.upper())\n",
    "print(name.lower())"
   ]
  },
  {
   "cell_type": "markdown",
   "id": "df2290b9",
   "metadata": {},
   "source": [
    "### String Concatenation"
   ]
  },
  {
   "cell_type": "code",
   "execution_count": 5,
   "id": "b3976467",
   "metadata": {},
   "outputs": [
    {
     "name": "stdout",
     "output_type": "stream",
     "text": [
      "Ada Lovelace\n"
     ]
    }
   ],
   "source": [
    "first_name = \"ada\"\n",
    "last_name = \"lovelace\"\n",
    "full_name = first_name + \" \" + last_name\n",
    "print(full_name.title())"
   ]
  },
  {
   "cell_type": "markdown",
   "id": "c8475391",
   "metadata": {},
   "source": [
    "### Adding Whitespace to Strings with Tabs or Newlines"
   ]
  },
  {
   "cell_type": "markdown",
   "id": "51ba949d",
   "metadata": {},
   "source": [
    "In programming, whitespace refers to any nonprinting character, such as\n",
    "spaces, tabs, and end-of-line symbols. You can use whitespace to organize\n",
    "your output so it’s easier for users to read.\n",
    "- To add a tab to your text, use the character combination \\t \n",
    "- To add a newline in a string, use the character combination \\n"
   ]
  },
  {
   "cell_type": "code",
   "execution_count": 6,
   "id": "3d4eafe2",
   "metadata": {},
   "outputs": [
    {
     "name": "stdout",
     "output_type": "stream",
     "text": [
      "Languages:\n",
      "\tPython\n",
      "\tC\n",
      "\tJavaScript\n"
     ]
    }
   ],
   "source": [
    "print(\"Languages:\\n\\tPython\\n\\tC\\n\\tJavaScript\")"
   ]
  },
  {
   "cell_type": "markdown",
   "id": "3473d0b4",
   "metadata": {},
   "source": [
    "### Stripping Whitespace \n",
    "Extra whitespace can be confusing in your programs. To programmers\n",
    "‘python’ and ‘python ' look pretty much the same. But to a program, they\n",
    "are two different strings. Python detects the extra space in 'python ' and\n",
    "considers it significant unless you tell it otherwise. Python can look for extra whitespace on the right and left sides of a string. To ensure that no whitespace exists at the right end of a string, use\n",
    "the rstrip() method. "
   ]
  },
  {
   "cell_type": "code",
   "execution_count": 7,
   "id": "af0b6a2d",
   "metadata": {},
   "outputs": [
    {
     "name": "stdout",
     "output_type": "stream",
     "text": [
      "python\n"
     ]
    }
   ],
   "source": [
    "favourite_language = \"python \"\n",
    "\n",
    "print(favourite_language.rstrip())"
   ]
  },
  {
   "cell_type": "markdown",
   "id": "18066377",
   "metadata": {},
   "source": [
    "### Numbers\n",
    "Numbers are used quite often in programming to keep score in games, represent data in visualizations, store information in web applications, and so\n",
    "on. Python treats numbers in several different ways, depending on how they\n",
    "are being used. "
   ]
  },
  {
   "cell_type": "markdown",
   "id": "7597d745",
   "metadata": {},
   "source": [
    "#### Integers \n",
    "You can add (+), subtract (-), multiply (*), and divide (/) integers in Python."
   ]
  },
  {
   "cell_type": "code",
   "execution_count": 12,
   "id": "7928e23b",
   "metadata": {},
   "outputs": [
    {
     "data": {
      "text/plain": [
       "5"
      ]
     },
     "execution_count": 12,
     "metadata": {},
     "output_type": "execute_result"
    }
   ],
   "source": [
    "## Addition\n",
    "2 + 3"
   ]
  },
  {
   "cell_type": "code",
   "execution_count": 13,
   "id": "817e21fe",
   "metadata": {},
   "outputs": [
    {
     "data": {
      "text/plain": [
       "1"
      ]
     },
     "execution_count": 13,
     "metadata": {},
     "output_type": "execute_result"
    }
   ],
   "source": [
    "## Subtraction\n",
    "3-2"
   ]
  },
  {
   "cell_type": "code",
   "execution_count": 14,
   "id": "d83be470",
   "metadata": {},
   "outputs": [
    {
     "data": {
      "text/plain": [
       "6"
      ]
     },
     "execution_count": 14,
     "metadata": {},
     "output_type": "execute_result"
    }
   ],
   "source": [
    "## Multiplication\n",
    "2 * 3"
   ]
  },
  {
   "cell_type": "code",
   "execution_count": 15,
   "id": "85db2507",
   "metadata": {},
   "outputs": [
    {
     "data": {
      "text/plain": [
       "1.5"
      ]
     },
     "execution_count": 15,
     "metadata": {},
     "output_type": "execute_result"
    }
   ],
   "source": [
    "## Division\n",
    "3 /2"
   ]
  },
  {
   "cell_type": "code",
   "execution_count": 16,
   "id": "04feee98",
   "metadata": {},
   "outputs": [
    {
     "data": {
      "text/plain": [
       "9"
      ]
     },
     "execution_count": 16,
     "metadata": {},
     "output_type": "execute_result"
    }
   ],
   "source": [
    "## Exponent\n",
    "3 ** 2"
   ]
  },
  {
   "cell_type": "markdown",
   "id": "76be1bb3",
   "metadata": {},
   "source": [
    "Python supports the order of operations too, so you can use multiple\n",
    "operations in one expression. You can also use parentheses to modify the\n",
    "order of operations so Python can evaluate your expression in the order\n",
    "you specify."
   ]
  },
  {
   "cell_type": "code",
   "execution_count": 17,
   "id": "5651b73f",
   "metadata": {},
   "outputs": [
    {
     "data": {
      "text/plain": [
       "12.0"
      ]
     },
     "execution_count": 17,
     "metadata": {},
     "output_type": "execute_result"
    }
   ],
   "source": [
    "2 + 3*4 - 6 / 3"
   ]
  },
  {
   "cell_type": "markdown",
   "id": "0ac3a7c3",
   "metadata": {},
   "source": [
    "#### Floats\n",
    "Python calls any number with a decimal point a float. This term is used in most programming languages, and it refers to the fact that a decimal point can appear at any position in a number. "
   ]
  },
  {
   "cell_type": "code",
   "execution_count": 18,
   "id": "4043e959",
   "metadata": {},
   "outputs": [
    {
     "data": {
      "text/plain": [
       "0.2"
      ]
     },
     "execution_count": 18,
     "metadata": {},
     "output_type": "execute_result"
    }
   ],
   "source": [
    "0.1 + 0.1"
   ]
  },
  {
   "cell_type": "code",
   "execution_count": 21,
   "id": "d0b05cc8",
   "metadata": {},
   "outputs": [
    {
     "data": {
      "text/plain": [
       "1.2"
      ]
     },
     "execution_count": 21,
     "metadata": {},
     "output_type": "execute_result"
    }
   ],
   "source": [
    "0.2 + 1"
   ]
  },
  {
   "cell_type": "code",
   "execution_count": 20,
   "id": "4100944b",
   "metadata": {},
   "outputs": [
    {
     "data": {
      "text/plain": [
       "0.2"
      ]
     },
     "execution_count": 20,
     "metadata": {},
     "output_type": "execute_result"
    }
   ],
   "source": [
    "2 * 0.1"
   ]
  },
  {
   "cell_type": "markdown",
   "id": "242491a9",
   "metadata": {},
   "source": [
    "### Avoiding Type Errors with the str() Function\n",
    "Often, you'll want to use a variable’s value within a message. "
   ]
  },
  {
   "cell_type": "code",
   "execution_count": 22,
   "id": "a29ef273",
   "metadata": {},
   "outputs": [
    {
     "name": "stdout",
     "output_type": "stream",
     "text": [
      "Happy 23rd Birthday!\n"
     ]
    }
   ],
   "source": [
    "age = 23\n",
    "message = \"Happy \" + str(age) + \"rd Birthday!\"\n",
    "print(message)"
   ]
  },
  {
   "cell_type": "markdown",
   "id": "14bdcef9",
   "metadata": {},
   "source": [
    "### Lists\n",
    "A list is a collection of items in a particular order. You can make a list that\n",
    "includes the letters of the alphabet, the digits from 0-9, or the names of\n",
    "all the people in your family. "
   ]
  },
  {
   "cell_type": "code",
   "execution_count": 23,
   "id": "c13baee3",
   "metadata": {},
   "outputs": [
    {
     "name": "stdout",
     "output_type": "stream",
     "text": [
      "['trek', 'cannondale', 'redline', 'specialized']\n"
     ]
    }
   ],
   "source": [
    "bicycles = ['trek', 'cannondale', 'redline', 'specialized']\n",
    "print(bicycles)"
   ]
  },
  {
   "cell_type": "markdown",
   "id": "dcb1fbc4",
   "metadata": {},
   "source": [
    "### Accessing Elements in a List \n",
    "Lists are ordered collections, so you can access any element in a list by\n",
    "telling Python the position, or index, of the item desired. To access an element in a list, write the name of the list followed by the index of the item\n",
    "enclosed in square brackets. "
   ]
  },
  {
   "cell_type": "code",
   "execution_count": 25,
   "id": "67f633f9",
   "metadata": {},
   "outputs": [
    {
     "name": "stdout",
     "output_type": "stream",
     "text": [
      "Trek\n"
     ]
    }
   ],
   "source": [
    "bicycles = ['trek', 'cannondale', 'redline', 'specialized']\n",
    "print(bicycles[0].title())"
   ]
  },
  {
   "cell_type": "markdown",
   "id": "a52a028d",
   "metadata": {},
   "source": [
    "#### Index Positions Start at 0, Not 1 \n",
    "Python considers the first item in a list to be at position 0, not position 1,\n",
    "This is true of most programming languages, and the reason has to do with\n",
    "how the list operations are implemented at a lower level. If you’re receiving\n",
    "unexpected results, determine whether you are making a simple off-by-one\n",
    "error.\n",
    "The second item in a list has an index of 1. Using this simple counting\n",
    "system, you can get any element you want from a list by subtracting one\n",
    "from its position in the list. For instance, to access the fourth item in a list,\n",
    "you request the item at index 3. "
   ]
  },
  {
   "cell_type": "code",
   "execution_count": 26,
   "id": "8d5e5b67",
   "metadata": {},
   "outputs": [
    {
     "name": "stdout",
     "output_type": "stream",
     "text": [
      "cannondale\n",
      "specialized\n"
     ]
    }
   ],
   "source": [
    "bicycles = ['trek', 'cannondale', 'redline', 'specialized']\n",
    "print(bicycles[1])\n",
    "print(bicycles[3])"
   ]
  },
  {
   "cell_type": "code",
   "execution_count": 27,
   "id": "a6ad7ef9",
   "metadata": {},
   "outputs": [
    {
     "name": "stdout",
     "output_type": "stream",
     "text": [
      "specialized\n"
     ]
    }
   ],
   "source": [
    "# Returning the last element in a list\n",
    "bicycles = ['trek', 'cannondale', 'redline', 'specialized']\n",
    "print(bicycles[-1])"
   ]
  },
  {
   "cell_type": "code",
   "execution_count": 29,
   "id": "2eb916a2",
   "metadata": {},
   "outputs": [
    {
     "name": "stdout",
     "output_type": "stream",
     "text": [
      "My first bicycle was a Trek.\n"
     ]
    }
   ],
   "source": [
    "# Using individual Values from a List\n",
    "bicycles = ['trek', 'cannondale', 'redline', 'specialized']\n",
    "message = \"My first bicycle was a \" + bicycles[0].title() + \".\"\n",
    "print(message)"
   ]
  },
  {
   "cell_type": "markdown",
   "id": "d1ab1778",
   "metadata": {},
   "source": [
    "### Modifying Elements in a List\n",
    "The syntax for modifying an element is similar to the syntax for accessing\n",
    "an element in a list. To change an element, use the name of the list followed\n",
    "by the index of the element you want to change, and then provide the new\n",
    "value you want that item to have. "
   ]
  },
  {
   "cell_type": "code",
   "execution_count": 31,
   "id": "e8e5bca4",
   "metadata": {},
   "outputs": [
    {
     "name": "stdout",
     "output_type": "stream",
     "text": [
      "['honda', 'yamaha', 'suzuki']\n",
      "['ducati', 'yamaha', 'suzuki']\n"
     ]
    }
   ],
   "source": [
    "# Changing Value of the first item of a list\n",
    "motorcycles = ['honda', 'yamaha', 'suzuki']\n",
    "print(motorcycles)\n",
    "\n",
    "motorcycles[0] = 'ducati'\n",
    "print(motorcycles)"
   ]
  },
  {
   "cell_type": "code",
   "execution_count": 32,
   "id": "cd6f6bfc",
   "metadata": {},
   "outputs": [
    {
     "name": "stdout",
     "output_type": "stream",
     "text": [
      "['honda', 'yamaha', 'suzuki']\n",
      "['honda', 'yamaha', 'suzuki', 'ducati']\n"
     ]
    }
   ],
   "source": [
    "# Adding elements to a List\n",
    "motorcycles = ['honda', 'yamaha', 'suzuki']\n",
    "print(motorcycles)\n",
    "\n",
    "motorcycles.append('ducati')\n",
    "print(motorcycles)"
   ]
  },
  {
   "cell_type": "code",
   "execution_count": 33,
   "id": "d7d511fd",
   "metadata": {},
   "outputs": [
    {
     "name": "stdout",
     "output_type": "stream",
     "text": [
      "['honda', 'yamaha', 'suzuki']\n"
     ]
    }
   ],
   "source": [
    "motorcycles = []\n",
    "motorcycles.append('honda')\n",
    "motorcycles.append('yamaha')\n",
    "motorcycles.append('suzuki')\n",
    "print(motorcycles)"
   ]
  },
  {
   "cell_type": "code",
   "execution_count": null,
   "id": "a75ccf8a",
   "metadata": {},
   "outputs": [
    {
     "name": "stdout",
     "output_type": "stream",
     "text": [
      "['ducati', 'honda', 'yamaha', 'suzuki']\n"
     ]
    }
   ],
   "source": [
    "# Inserting Elements into a List (Positions)\n",
    "motorcycles = ['honda', 'yamaha', 'suzuki']\n",
    "motorcycles.insert(0, 'ducati')\n",
    "print(motorcycles)"
   ]
  },
  {
   "cell_type": "code",
   "execution_count": 35,
   "id": "5942838f",
   "metadata": {},
   "outputs": [
    {
     "name": "stdout",
     "output_type": "stream",
     "text": [
      "['yamaha', 'suzuki']\n"
     ]
    }
   ],
   "source": [
    "# Removing Elements from a list\n",
    "# Removing an Item Using the del Statement\n",
    "motorcycles = ['honda', 'yamaha', 'suzuki']\n",
    "del motorcycles[0]\n",
    "print(motorcycles)"
   ]
  },
  {
   "cell_type": "code",
   "execution_count": 36,
   "id": "3a21eb7b",
   "metadata": {},
   "outputs": [
    {
     "name": "stdout",
     "output_type": "stream",
     "text": [
      "['honda', 'yamaha', 'suzuki']\n",
      "['honda', 'yamaha']\n",
      "suzuki\n"
     ]
    }
   ],
   "source": [
    "# Removing an Item Using the pop() Method\n",
    "motorcycles = ['honda', 'yamaha', 'suzuki']\n",
    "print(motorcycles)\n",
    "\n",
    "popped_motorcycle = motorcycles.pop()\n",
    "print(motorcycles)\n",
    "print(popped_motorcycle)"
   ]
  },
  {
   "cell_type": "code",
   "execution_count": 38,
   "id": "84c4169d",
   "metadata": {},
   "outputs": [
    {
     "name": "stdout",
     "output_type": "stream",
     "text": [
      "The last motorcycle I owned was a Suzuki.\n"
     ]
    }
   ],
   "source": [
    "motorcycles = ['honda', 'yamaha', 'suzuki']\n",
    "last_owned = motorcycles.pop()\n",
    "print(\"The last motorcycle I owned was a \" + last_owned.title() + \".\") "
   ]
  },
  {
   "cell_type": "code",
   "execution_count": 39,
   "id": "674fdb9c",
   "metadata": {},
   "outputs": [
    {
     "name": "stdout",
     "output_type": "stream",
     "text": [
      "The first motorcycle I owned was a Honda.\n"
     ]
    }
   ],
   "source": [
    "# Popping Items from any Position in a List\n",
    "motorcycles = ['honda', 'yamaha', 'suzuki']\n",
    "first_owned = motorcycles.pop(0)\n",
    "print(\"The first motorcycle I owned was a \" + first_owned.title() + \".\")"
   ]
  },
  {
   "cell_type": "code",
   "execution_count": 40,
   "id": "acc71b70",
   "metadata": {},
   "outputs": [
    {
     "name": "stdout",
     "output_type": "stream",
     "text": [
      "['honda', 'yamaha', 'suzuki', 'ducati']\n",
      "['honda', 'yamaha', 'suzuki']\n"
     ]
    }
   ],
   "source": [
    "# Removing an Item by Value\n",
    "motorcycles = ['honda', 'yamaha', 'suzuki', 'ducati']\n",
    "print(motorcycles)\n",
    "\n",
    "motorcycles.remove('ducati')\n",
    "print(motorcycles)"
   ]
  },
  {
   "cell_type": "markdown",
   "id": "6ac2e588",
   "metadata": {},
   "source": [
    "### Organizing a List\n",
    "Often, your lists will be created in an unpredictable order, because you can’t\n",
    "always control the order in which your users provide their data. Although\n",
    "this is unavoidable in most circumstances, you'll frequently want to present\n",
    "your information in a particular order. Sometimes you'll want to preserve the\n",
    "original order of your list, and other times you'll want to change the original order. Python provides a number of different ways to organize your lists,\n",
    "depending on the situation. "
   ]
  },
  {
   "cell_type": "code",
   "execution_count": 41,
   "id": "41ed3b23",
   "metadata": {},
   "outputs": [
    {
     "name": "stdout",
     "output_type": "stream",
     "text": [
      "['audi', 'bmw', 'subaru', 'toyota']\n"
     ]
    }
   ],
   "source": [
    "# Sorting a List Permanently with the sort() Method\n",
    "cars = ['bmw', 'audi', 'toyota', 'subaru']\n",
    "cars.sort()\n",
    "print(cars)"
   ]
  },
  {
   "cell_type": "code",
   "execution_count": 42,
   "id": "40e7f506",
   "metadata": {},
   "outputs": [
    {
     "name": "stdout",
     "output_type": "stream",
     "text": [
      "['toyota', 'subaru', 'bmw', 'audi']\n"
     ]
    }
   ],
   "source": [
    "# Sorting the LIst in reverse order\n",
    "cars = ['bmw', 'audi', 'toyota', 'subaru']\n",
    "cars.sort(reverse=True)\n",
    "print(cars)"
   ]
  },
  {
   "cell_type": "code",
   "execution_count": 44,
   "id": "a3d223cb",
   "metadata": {},
   "outputs": [
    {
     "name": "stdout",
     "output_type": "stream",
     "text": [
      "Here's the original list: \n",
      "['bmw', 'audi', 'toyota', 'subaru']\n",
      "\n",
      "Here's the sorted list: \n",
      "['audi', 'bmw', 'subaru', 'toyota']\n",
      "\n",
      "Here's the original list again\n",
      "['bmw', 'audi', 'toyota', 'subaru']\n"
     ]
    }
   ],
   "source": [
    "# Sorting a LIst Temporarily with the sorted() Function\n",
    "cars = ['bmw', 'audi', 'toyota', 'subaru']\n",
    "\n",
    "print(\"Here's the original list: \")\n",
    "print(cars)\n",
    "\n",
    "print(\"\\nHere's the sorted list: \")\n",
    "print(sorted(cars))\n",
    "\n",
    "print(\"\\nHere's the original list again\")\n",
    "print(cars)"
   ]
  },
  {
   "cell_type": "code",
   "execution_count": 45,
   "id": "362a6578",
   "metadata": {},
   "outputs": [
    {
     "name": "stdout",
     "output_type": "stream",
     "text": [
      "['bmw', 'audi', 'toyota', 'subaru']\n",
      "['subaru', 'toyota', 'audi', 'bmw']\n"
     ]
    }
   ],
   "source": [
    "# Printing a List in Reverse Order\n",
    "cars = ['bmw', 'audi', 'toyota', 'subaru']\n",
    "print(cars)\n",
    "\n",
    "cars.reverse()\n",
    "print(cars)"
   ]
  },
  {
   "cell_type": "code",
   "execution_count": 46,
   "id": "dcca7ed9",
   "metadata": {},
   "outputs": [
    {
     "data": {
      "text/plain": [
       "4"
      ]
     },
     "execution_count": 46,
     "metadata": {},
     "output_type": "execute_result"
    }
   ],
   "source": [
    "# Finding the length of a List\n",
    "cars = ['bmw', 'audi', 'toyota', 'subaru']\n",
    "len(cars)"
   ]
  },
  {
   "cell_type": "markdown",
   "id": "78ed2057",
   "metadata": {},
   "source": [
    "### Working with List"
   ]
  },
  {
   "cell_type": "markdown",
   "id": "a5aea5c9",
   "metadata": {},
   "source": []
  },
  {
   "cell_type": "markdown",
   "id": "f58c194e",
   "metadata": {},
   "source": []
  },
  {
   "cell_type": "code",
   "execution_count": null,
   "id": "ed2c5940",
   "metadata": {},
   "outputs": [],
   "source": []
  },
  {
   "cell_type": "code",
   "execution_count": null,
   "id": "0d638c4b",
   "metadata": {},
   "outputs": [],
   "source": []
  }
 ],
 "metadata": {
  "kernelspec": {
   "display_name": "dataengineering-101",
   "language": "python",
   "name": "python3"
  },
  "language_info": {
   "codemirror_mode": {
    "name": "ipython",
    "version": 3
   },
   "file_extension": ".py",
   "mimetype": "text/x-python",
   "name": "python",
   "nbconvert_exporter": "python",
   "pygments_lexer": "ipython3",
   "version": "3.11.11"
  }
 },
 "nbformat": 4,
 "nbformat_minor": 5
}
