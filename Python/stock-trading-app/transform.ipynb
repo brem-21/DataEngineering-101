{
 "cells": [
  {
   "cell_type": "code",
   "execution_count": 1,
   "id": "4ecb6bcf",
   "metadata": {},
   "outputs": [],
   "source": [
    "from pyspark.sql import SparkSession\n",
    "from pyspark.sql.functions import *\n",
    "from pyspark.sql.types import *\n",
    "import pandas as pd\n",
    "from matplotlib import pyplot as plt\n",
    "import seaborn as sns\n"
   ]
  },
  {
   "cell_type": "code",
   "execution_count": 2,
   "id": "c35008d7",
   "metadata": {},
   "outputs": [
    {
     "name": "stderr",
     "output_type": "stream",
     "text": [
      "WARNING: Using incubator modules: jdk.incubator.vector\n",
      "Using Spark's default log4j profile: org/apache/spark/log4j2-defaults.properties\n",
      "25/09/18 14:13:46 WARN Utils: Your hostname, brempong-HP-EliteBook-840-G7-Notebook-PC, resolves to a loopback address: 127.0.1.1; using 172.20.10.3 instead (on interface wlp0s20f3)\n",
      "25/09/18 14:13:46 WARN Utils: Set SPARK_LOCAL_IP if you need to bind to another address\n",
      "Using Spark's default log4j profile: org/apache/spark/log4j2-defaults.properties\n",
      "Setting default log level to \"WARN\".\n",
      "To adjust logging level use sc.setLogLevel(newLevel). For SparkR, use setLogLevel(newLevel).\n",
      "25/09/18 14:13:47 WARN NativeCodeLoader: Unable to load native-hadoop library for your platform... using builtin-java classes where applicable\n"
     ]
    },
    {
     "data": {
      "text/html": [
       "\n",
       "            <div>\n",
       "                <p><b>SparkSession - in-memory</b></p>\n",
       "                \n",
       "        <div>\n",
       "            <p><b>SparkContext</b></p>\n",
       "\n",
       "            <p><a href=\"http://172.20.10.3:4040\">Spark UI</a></p>\n",
       "\n",
       "            <dl>\n",
       "              <dt>Version</dt>\n",
       "                <dd><code>v4.0.1</code></dd>\n",
       "              <dt>Master</dt>\n",
       "                <dd><code>local[*]</code></dd>\n",
       "              <dt>AppName</dt>\n",
       "                <dd><code>Stock Trading App</code></dd>\n",
       "            </dl>\n",
       "        </div>\n",
       "        \n",
       "            </div>\n",
       "        "
      ],
      "text/plain": [
       "<pyspark.sql.session.SparkSession at 0x7ca259d41650>"
      ]
     },
     "execution_count": 2,
     "metadata": {},
     "output_type": "execute_result"
    }
   ],
   "source": [
    "# start spark session\n",
    "spark = SparkSession.builder.appName(\"Stock Trading App\").getOrCreate()\n",
    "spark"
   ]
  },
  {
   "cell_type": "code",
   "execution_count": 3,
   "id": "4c47e26b",
   "metadata": {},
   "outputs": [],
   "source": [
    "schema = StructType([\n",
    "    StructField(\"ticker\", StringType(), True),\n",
    "    StructField(\"name\", StringType(), True),\n",
    "    StructField(\"market\", StringType(), True),\n",
    "    StructField(\"locale\", StringType(), True),\n",
    "    StructField(\"primary_exchange\", StringType(), True),\n",
    "    StructField(\"type\", StringType(), True),\n",
    "    StructField(\"active\", BooleanType(), True),\n",
    "    StructField(\"currency_name\", StringType(), True),\n",
    "    StructField(\"cik\", StringType(), True),\n",
    "    StructField(\"composite_figi\", StringType(), True),\n",
    "    StructField(\"share_class_figi\", StringType(), True),\n",
    "    StructField(\"last_updated_utc\", TimestampType(), True)])"
   ]
  },
  {
   "cell_type": "code",
   "execution_count": 4,
   "id": "71e3adcf",
   "metadata": {},
   "outputs": [
    {
     "name": "stdout",
     "output_type": "stream",
     "text": [
      "root\n",
      " |-- ticker: string (nullable = true)\n",
      " |-- name: string (nullable = true)\n",
      " |-- market: string (nullable = true)\n",
      " |-- locale: string (nullable = true)\n",
      " |-- primary_exchange: string (nullable = true)\n",
      " |-- type: string (nullable = true)\n",
      " |-- active: boolean (nullable = true)\n",
      " |-- currency_name: string (nullable = true)\n",
      " |-- cik: string (nullable = true)\n",
      " |-- composite_figi: string (nullable = true)\n",
      " |-- share_class_figi: string (nullable = true)\n",
      " |-- last_updated_utc: timestamp (nullable = true)\n",
      "\n"
     ]
    }
   ],
   "source": [
    "data = spark.read.csv(\"tickers.csv\", header=True, schema=schema)\n",
    "data.printSchema()"
   ]
  },
  {
   "cell_type": "code",
   "execution_count": 5,
   "id": "b5bdf1f6",
   "metadata": {},
   "outputs": [
    {
     "name": "stdout",
     "output_type": "stream",
     "text": [
      "+-------+--------------------+------+------+----------------+-------+------+-------------+------------+--------------------+--------------------+--------------------+\n",
      "| ticker|                name|market|locale|primary_exchange|   type|active|currency_name|         cik|      composite_figi|    share_class_figi|    last_updated_utc|\n",
      "+-------+--------------------+------+------+----------------+-------+------+-------------+------------+--------------------+--------------------+--------------------+\n",
      "|      A|Agilent Technolog...|stocks|    us|            XNYS|     CS|  true|          usd|  0001090872|        BBG000C2V3D6|        BBG001SCTQY4|2025-09-18 06:05:...|\n",
      "|     AA|   Alcoa Corporation|stocks|    us|            XNYS|     CS|  true|          usd|  0001675149|        BBG00B3T3HD3|        BBG00B3T3HF1|2025-09-18 06:05:...|\n",
      "|    AAA|Alternative Acces...|stocks|    us|            ARCX|    ETF|  true|          usd|  0001776878|        BBG01B0JRCS6|        BBG01B0JRCT5|2025-09-18 06:05:...|\n",
      "|   AAAA|Amplius Aggressiv...|stocks|    us|            BATS|    ETF|  true|          usd|BBG01W275XX6|        BBG01W275ZB5|2025-09-18T06:05:...|                NULL|\n",
      "|   AAAU|Goldman Sachs Phy...|stocks|    us|            BATS|    ETF|  true|          usd|  0001708646|        BBG00LPXX872|        BBG00LPXX8Z1|2025-09-18 06:05:...|\n",
      "|   AACB|Artius II Acquisi...|stocks|    us|            XNAS|     CS|  true|          usd|  0002034334|2025-09-18T06:05:...|                NULL|                NULL|\n",
      "|  AACBR|Artius II Acquisi...|stocks|    us|            XNAS|  RIGHT|  true|          usd|  0002034334|2025-09-18T06:05:...|                NULL|                NULL|\n",
      "|  AACBU|Artius II Acquisi...|stocks|    us|            XNAS|   UNIT|  true|          usd|  0002034334|2025-09-18T06:05:...|                NULL|                NULL|\n",
      "|   AACG|ATA Creativity Gl...|stocks|    us|            XNAS|   ADRC|  true|          usd|  0001420529|        BBG000V2S3P6|        BBG001T125S9|2025-09-18 06:05:...|\n",
      "|   AACI|Armada Acquisitio...|stocks|    us|            XNAS|     CS|  true|          usd|  0002044009|2025-09-18T06:05:...|                NULL|                NULL|\n",
      "|  AACIU|Armada Acquisitio...|stocks|    us|            XNAS|   UNIT|  true|          usd|  0002044009|2025-09-18T06:05:...|                NULL|                NULL|\n",
      "|  AACIW|Armada Acquisitio...|stocks|    us|            XNAS|WARRANT|  true|          usd|  0002044009|2025-09-18T06:05:...|                NULL|                NULL|\n",
      "|   AACT|Ares Acquisition ...|stocks|    us|            XNYS|     CS|  true|          usd|  0001853138|2025-09-18T06:05:...|                NULL|                NULL|\n",
      "| AACT.U|Ares Acquisition ...|stocks|    us|            XNYS|   UNIT|  true|          usd|  0001853138|2025-09-18T06:05:...|                NULL|                NULL|\n",
      "|AACT.WS|Ares Acquisition ...|stocks|    us|            XNYS|WARRANT|  true|          usd|  0001853138|2025-09-18T06:05:...|                NULL|                NULL|\n",
      "|   AADR|AdvisorShares Dor...|stocks|    us|            XNAS|    ETF|  true|          usd|  0001408970|        BBG000BDYRW6|        BBG001T9B1Y4|2025-09-18 06:05:...|\n",
      "|    AAL|American Airlines...|stocks|    us|            XNAS|     CS|  true|          usd|  0000006201|        BBG005P7Q881|        BBG005P7Q907|2025-09-18 06:05:...|\n",
      "|   AALG|Leverage Shares 2...|stocks|    us|            XNAS|    ETF|  true|          usd|  0001976322|        BBG01VH49P35|        BBG01VH49Q06|2025-09-18 06:05:...|\n",
      "|    AAM|AA Mission Acquis...|stocks|    us|            XNYS|     CS|  true|          usd|  0002012964|2025-09-18T06:05:...|                NULL|                NULL|\n",
      "|  AAM.U|AA Mission Acquis...|stocks|    us|            XNYS|   UNIT|  true|          usd|  0002012964|2025-09-18T06:05:...|                NULL|                NULL|\n",
      "+-------+--------------------+------+------+----------------+-------+------+-------------+------------+--------------------+--------------------+--------------------+\n",
      "only showing top 20 rows\n"
     ]
    }
   ],
   "source": [
    "data.show()"
   ]
  },
  {
   "cell_type": "code",
   "execution_count": null,
   "id": "931db585",
   "metadata": {},
   "outputs": [],
   "source": []
  }
 ],
 "metadata": {
  "kernelspec": {
   "display_name": ".venv",
   "language": "python",
   "name": "python3"
  },
  "language_info": {
   "codemirror_mode": {
    "name": "ipython",
    "version": 3
   },
   "file_extension": ".py",
   "mimetype": "text/x-python",
   "name": "python",
   "nbconvert_exporter": "python",
   "pygments_lexer": "ipython3",
   "version": "3.11.11"
  }
 },
 "nbformat": 4,
 "nbformat_minor": 5
}
